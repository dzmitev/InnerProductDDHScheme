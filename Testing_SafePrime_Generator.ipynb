{
 "cells": [
  {
   "cell_type": "code",
   "execution_count": 5,
   "id": "8b55edaf-9804-448d-9f7c-5ad684bca9af",
   "metadata": {},
   "outputs": [],
   "source": [
    "from Scheme import generate_safe_prime, generator_of_quadratic_residues\n",
    "from timeit import default_timer as timer\n",
    "import numpy as np\n"
   ]
  },
  {
   "cell_type": "code",
   "execution_count": 8,
   "id": "af197de3-6f32-432a-aff5-403473071628",
   "metadata": {},
   "outputs": [],
   "source": [
    "primes = []; p_times = []\n",
    "generators = []; g_times = []\n",
    "\n",
    "bits = 1024\n",
    "repetitions = 50"
   ]
  },
  {
   "cell_type": "code",
   "execution_count": 9,
   "id": "df9330e5-d913-487e-a111-806f6024ddee",
   "metadata": {},
   "outputs": [],
   "source": [
    "for i in range(0, repetitions):\n",
    "    start = timer()\n",
    "    p = generate_safe_prime(bits)\n",
    "    end = timer()\n",
    "    \n",
    "    primes.append(p)\n",
    "    p_times.append(end - start)"
   ]
  },
  {
   "cell_type": "code",
   "execution_count": 11,
   "id": "cbd6538d-5874-42b1-838a-c6fdec6925ac",
   "metadata": {},
   "outputs": [],
   "source": [
    "for i in range(0, repetitions):\n",
    "    p, q = primes[i]\n",
    "    \n",
    "    start = timer()\n",
    "    g = generator_of_quadratic_residues(p)\n",
    "    end = timer()\n",
    "    \n",
    "    generators.append(g)\n",
    "    g_times.append(end - start)"
   ]
  },
  {
   "cell_type": "code",
   "execution_count": 13,
   "id": "2054b3fe-66ad-4c13-ba2c-ebbcc099fd6b",
   "metadata": {},
   "outputs": [
    {
     "name": "stdout",
     "output_type": "stream",
     "text": [
      "0.9315654768599779\n"
     ]
    }
   ],
   "source": [
    "print(np.mean(p_times))"
   ]
  },
  {
   "cell_type": "code",
   "execution_count": 15,
   "id": "af975f0c-ec2c-4fb9-acbb-c987bcfac25b",
   "metadata": {},
   "outputs": [
    {
     "name": "stdout",
     "output_type": "stream",
     "text": [
      "0.008699074979813304\n"
     ]
    }
   ],
   "source": [
    "print(np.mean(g_times))"
   ]
  },
  {
   "cell_type": "code",
   "execution_count": null,
   "id": "4f9bf130-a4ed-4ca7-8c88-a879ea82e09a",
   "metadata": {},
   "outputs": [],
   "source": []
  }
 ],
 "metadata": {
  "kernelspec": {
   "display_name": "Python 3 (ipykernel)",
   "language": "python",
   "name": "python3"
  },
  "language_info": {
   "codemirror_mode": {
    "name": "ipython",
    "version": 3
   },
   "file_extension": ".py",
   "mimetype": "text/x-python",
   "name": "python",
   "nbconvert_exporter": "python",
   "pygments_lexer": "ipython3",
   "version": "3.10.6"
  }
 },
 "nbformat": 4,
 "nbformat_minor": 5
}
