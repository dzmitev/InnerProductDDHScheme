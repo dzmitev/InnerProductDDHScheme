{
 "cells": [
  {
   "cell_type": "code",
   "execution_count": 28,
   "id": "0f987770-2891-4beb-9b38-ea3bd6677d99",
   "metadata": {},
   "outputs": [],
   "source": [
    "from Scheme import encrypt, decrypt, setup, keygen\n",
    "from timeit import default_timer as timer\n",
    "import numpy as np\n",
    "import random"
   ]
  },
  {
   "cell_type": "code",
   "execution_count": 29,
   "id": "5a859cc4-d289-4fef-a00f-4a1bdf0a93d0",
   "metadata": {},
   "outputs": [],
   "source": [
    "random.seed(18)\n",
    "B = pow(10,4)\n",
    "l = 100\n",
    "bits = 1024\n",
    "repetitions = 50\n",
    "\n",
    "plaintexts = []\n",
    "vecs_for_keys = []\n",
    "for j in range(0, repetitions):\n",
    "    x = [random.randint(0, B-1) for i in range(0, l)]\n",
    "    y = [random.randint(0, B-1) for i in range(0, l)]\n",
    "    \n",
    "    plaintexts.append(x)\n",
    "    vecs_for_keys.append(y)\n",
    "\n",
    "\n"
   ]
  },
  {
   "cell_type": "code",
   "execution_count": 30,
   "id": "2b06a84d-792a-4ead-8ae4-409a19a2df1a",
   "metadata": {},
   "outputs": [],
   "source": [
    "master_keys = []; setup_times = []\n",
    "ciphertexts = []; encrypt_times = []\n",
    "keys = []; keygen_times = []\n",
    "inner_prods = []; decrypt_times = []"
   ]
  },
  {
   "cell_type": "code",
   "execution_count": 31,
   "id": "6f18c76d-e78f-4b11-96d1-d74dfd0cfa41",
   "metadata": {},
   "outputs": [],
   "source": [
    "for i in range(0, repetitions):\n",
    "    start = timer()\n",
    "    mpk, msk = setup(l, bits, B)\n",
    "    end = timer()\n",
    "\n",
    "    master_keys.append((mpk, msk))\n",
    "    setup_times.append(end-start)\n"
   ]
  },
  {
   "cell_type": "code",
   "execution_count": 32,
   "id": "a534223c-b5f9-424a-b394-afb8f7c788ab",
   "metadata": {},
   "outputs": [],
   "source": [
    "for i in range(0, repetitions):\n",
    "    x = plaintexts[i]\n",
    "    mpk, msk = master_keys[i]\n",
    "    \n",
    "    start = timer()\n",
    "    ct = encrypt(mpk, x, B)\n",
    "    end = timer()\n",
    "\n",
    "    ciphertexts.append(ct); encrypt_times.append(end-start)"
   ]
  },
  {
   "cell_type": "code",
   "execution_count": 33,
   "id": "acc2f365-6f21-4f5e-a8e0-ec4455c44494",
   "metadata": {},
   "outputs": [],
   "source": [
    "for i in range(0, repetitions):\n",
    "    y = vecs_for_keys[i]\n",
    "    mpk, msk = master_keys[i]\n",
    "    \n",
    "    start = timer()\n",
    "    key = keygen(mpk, msk, y, B)\n",
    "    end = timer()\n",
    "\n",
    "    keys.append(key); keygen_times.append(end-start)\n"
   ]
  },
  {
   "cell_type": "code",
   "execution_count": 34,
   "id": "88b267b7-36a3-4aba-a1b9-1eebbc54cb16",
   "metadata": {},
   "outputs": [
    {
     "name": "stdout",
     "output_type": "stream",
     "text": [
      "0 1 2 3 4 5 6 7 8 9 10 11 12 13 14 15 16 17 18 19 20 21 22 23 24 25 26 27 28 29 30 31 32 33 34 35 36 37 38 39 40 41 42 43 44 45 46 47 48 49 "
     ]
    }
   ],
   "source": [
    "for i in range(0, repetitions):\n",
    "    print(i, end = ' ')\n",
    "    \n",
    "    y = vecs_for_keys[i]\n",
    "    mpk, msk = master_keys[i]\n",
    "    key = keys[i]\n",
    "    ct = ciphertexts[i]\n",
    "   \n",
    "    start = timer()\n",
    "    dec = decrypt(mpk, ct, key, y, B)\n",
    "    end = timer()\n",
    "\n",
    "    inner_prods.append(dec); decrypt_times.append(end-start)"
   ]
  },
  {
   "cell_type": "code",
   "execution_count": 35,
   "id": "c9ccd6ce-64c8-4fa7-ad8b-fa2f61d2e8ab",
   "metadata": {},
   "outputs": [],
   "source": [
    "min_time = {}\n",
    "max_time = {}\n",
    "avg_time = {}\n",
    "\n",
    "min_time['setup'] = np.amin(setup_times)\n",
    "max_time['setup'] = np.amax(setup_times)\n",
    "avg_time['setup'] = np.mean(setup_times)\n",
    "\n",
    "min_time['encrypt'] = np.amin(encrypt_times)\n",
    "max_time['encrypt'] = np.amax(encrypt_times)\n",
    "avg_time['encrypt'] = np.mean(encrypt_times)\n",
    "\n",
    "min_time['keygen'] = np.amin(keygen_times)\n",
    "max_time['keygen'] = np.amax(keygen_times)\n",
    "avg_time['keygen'] = np.mean(keygen_times)\n",
    "\n",
    "min_time['decrypt'] = np.amin(decrypt_times)\n",
    "max_time['decrypt'] = np.amax(decrypt_times)\n",
    "avg_time['decrypt'] = np.mean(decrypt_times)\n"
   ]
  },
  {
   "cell_type": "code",
   "execution_count": 36,
   "id": "b37ebbf9-4572-4c4b-975f-d26e498ee7dc",
   "metadata": {},
   "outputs": [
    {
     "data": {
      "text/plain": [
       "{'setup': 0.5673412409996672,\n",
       " 'encrypt': 0.2827113500006817,\n",
       " 'keygen': 3.526900036376901e-05,\n",
       " 'decrypt': 28.66207778900025}"
      ]
     },
     "execution_count": 36,
     "metadata": {},
     "output_type": "execute_result"
    }
   ],
   "source": [
    "min_time"
   ]
  },
  {
   "cell_type": "code",
   "execution_count": 37,
   "id": "bf8d86f9-8a91-4d6f-9069-bcf0e42c4689",
   "metadata": {},
   "outputs": [
    {
     "data": {
      "text/plain": [
       "{'setup': 4.140625693000402,\n",
       " 'encrypt': 0.30266130200107,\n",
       " 'keygen': 7.256600110849831e-05,\n",
       " 'decrypt': 38.453822618999766}"
      ]
     },
     "execution_count": 37,
     "metadata": {},
     "output_type": "execute_result"
    }
   ],
   "source": [
    "max_time"
   ]
  },
  {
   "cell_type": "code",
   "execution_count": 38,
   "id": "86789376-3c17-4ce9-a362-3a3579187aa6",
   "metadata": {},
   "outputs": [
    {
     "data": {
      "text/plain": [
       "{'setup': 1.5184034533599333,\n",
       " 'encrypt': 0.2922567546600476,\n",
       " 'keygen': 3.9553939968755005e-05,\n",
       " 'decrypt': 33.87960077637988}"
      ]
     },
     "execution_count": 38,
     "metadata": {},
     "output_type": "execute_result"
    }
   ],
   "source": [
    "avg_time"
   ]
  },
  {
   "cell_type": "code",
   "execution_count": 39,
   "id": "866a95ca-bcdc-454a-954f-88d09342bee1",
   "metadata": {},
   "outputs": [
    {
     "name": "stdout",
     "output_type": "stream",
     "text": [
      "2661527286 2661527286\n",
      "2616225297 2616225297\n",
      "2578122478 2578122478\n",
      "2599379051 2599379051\n",
      "2388529293 2388529293\n",
      "2558249284 2558249284\n",
      "2850125781 2850125781\n",
      "2756225933 2756225933\n",
      "2410059761 2410059761\n",
      "2684613015 2684613015\n",
      "2509169002 2509169002\n",
      "2322572263 2322572263\n",
      "2315680353 2315680353\n",
      "2589412847 2589412847\n",
      "2660368830 2660368830\n",
      "2402834741 2402834741\n",
      "2576503283 2576503283\n",
      "2641428836 2641428836\n",
      "2589561242 2589561242\n",
      "2645698450 2645698450\n",
      "2652414583 2652414583\n",
      "2570322489 2570322489\n",
      "2862827831 2862827831\n",
      "2655112669 2655112669\n",
      "2629375347 2629375347\n",
      "2539354929 2539354929\n",
      "2373642783 2373642783\n",
      "2436816433 2436816433\n",
      "2378311211 2378311211\n",
      "2252038828 2252038828\n",
      "2450821633 2450821633\n",
      "2134085645 2134085645\n",
      "2364760925 2364760925\n",
      "2352516472 2352516472\n",
      "2323596396 2323596396\n",
      "2479937626 2479937626\n",
      "2220936185 2220936185\n",
      "2317033742 2317033742\n",
      "2647854460 2647854460\n",
      "2535833088 2535833088\n",
      "2664991278 2664991278\n",
      "2103269687 2103269687\n",
      "2513169635 2513169635\n",
      "2950894575 2950894575\n",
      "2410402746 2410402746\n",
      "2285718402 2285718402\n",
      "2720502180 2720502180\n",
      "2207380296 2207380296\n",
      "2470952909 2470952909\n",
      "2842336397 2842336397\n"
     ]
    }
   ],
   "source": [
    "for i in range(0, repetitions):\n",
    "    x = plaintexts[i]\n",
    "    y = vecs_for_keys[i]\n",
    "    \n",
    "    print(np.dot(x,y), inner_prods[i])"
   ]
  }
 ],
 "metadata": {
  "kernelspec": {
   "display_name": "Python 3 (ipykernel)",
   "language": "python",
   "name": "python3"
  },
  "language_info": {
   "codemirror_mode": {
    "name": "ipython",
    "version": 3
   },
   "file_extension": ".py",
   "mimetype": "text/x-python",
   "name": "python",
   "nbconvert_exporter": "python",
   "pygments_lexer": "ipython3",
   "version": "3.10.6"
  }
 },
 "nbformat": 4,
 "nbformat_minor": 5
}
