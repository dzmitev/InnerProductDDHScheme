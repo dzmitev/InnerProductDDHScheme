{
 "cells": [
  {
   "cell_type": "code",
   "execution_count": 2,
   "id": "c4bec849-cf92-45d8-b201-575e0bd17564",
   "metadata": {},
   "outputs": [],
   "source": [
    "from Scheme import encrypt, decrypt, setup, keygen\n",
    "from timeit import default_timer as timer\n",
    "import numpy as np\n",
    "import random"
   ]
  },
  {
   "cell_type": "code",
   "execution_count": 3,
   "id": "42ae286e-a79f-4838-ae40-90f59df0787e",
   "metadata": {},
   "outputs": [],
   "source": [
    "grades = []\n",
    "\n",
    "ects = [7, 7, 6, 6, 10, 5, 7, 7, 5, 5, 7, 10, \\\n",
    "        6, 6, 6, 6, 6, 6, 6, 6, 6, 6, 6, 6, 6, 6, \\\n",
    "        3,3,3,3]\n",
    "l = len(ects)\n",
    "B = 11 # we assume that every subject is worth at most 10 ECTS\n",
    "bits = 1024\n",
    "\n",
    "repetitions = 50"
   ]
  },
  {
   "cell_type": "code",
   "execution_count": 4,
   "id": "8d667a42-c1fe-43bd-b057-07e8acfd075d",
   "metadata": {},
   "outputs": [],
   "source": [
    "for i in range(0, repetitions):\n",
    "    curr_grades = [random.randrange(6, 11) for _ in range(0, l)]\n",
    "    grades.append(curr_grades)"
   ]
  },
  {
   "cell_type": "code",
   "execution_count": 5,
   "id": "17924fae-fbae-4250-9507-2251b6a730af",
   "metadata": {},
   "outputs": [],
   "source": [
    "master_keys = []; setup_times = []\n",
    "ciphertexts = []; encrypt_times = []\n",
    "keys = []; keygen_times = []\n",
    "inner_prods = []; decrypt_times = []"
   ]
  },
  {
   "cell_type": "code",
   "execution_count": 6,
   "id": "9df34c1a-f7ee-49c6-898c-2227ec56a494",
   "metadata": {},
   "outputs": [],
   "source": [
    "for i in range(0, repetitions):\n",
    "    start = timer()\n",
    "    mpk, msk = setup(l, bits, B)\n",
    "    end = timer()\n",
    "\n",
    "    master_keys.append((mpk, msk))\n",
    "    setup_times.append(end-start)\n"
   ]
  },
  {
   "cell_type": "code",
   "execution_count": 7,
   "id": "9d04d778-dd71-4d55-b168-a1309b068df1",
   "metadata": {},
   "outputs": [],
   "source": [
    "for i in range(0, repetitions):\n",
    "    mpk, msk = master_keys[i]\n",
    "    \n",
    "    start = timer()\n",
    "    ct = encrypt(mpk, grades[i], B)\n",
    "    end = timer()\n",
    "\n",
    "    ciphertexts.append(ct); encrypt_times.append(end-start)"
   ]
  },
  {
   "cell_type": "code",
   "execution_count": 8,
   "id": "af213dd1-1db6-4d92-9a67-42cf935ad6ba",
   "metadata": {},
   "outputs": [],
   "source": [
    "for i in range(0, repetitions):\n",
    "    mpk, msk = master_keys[i]\n",
    "    \n",
    "    start = timer()\n",
    "    key = keygen(mpk, msk, ects, B)\n",
    "    end = timer()\n",
    "\n",
    "    keys.append(key); keygen_times.append(end-start)\n"
   ]
  },
  {
   "cell_type": "code",
   "execution_count": 9,
   "id": "53d488ee-399a-4c63-8979-4980f078882f",
   "metadata": {},
   "outputs": [],
   "source": [
    "for i in range(0, repetitions):\n",
    "    mpk, msk = master_keys[i]\n",
    "    key = keys[i]\n",
    "    ct = ciphertexts[i]\n",
    "   \n",
    "    start = timer()\n",
    "    dec = decrypt(mpk, ct, key, ects, 10000)\n",
    "    end = timer()\n",
    "\n",
    "    inner_prods.append(dec); decrypt_times.append(end-start)"
   ]
  },
  {
   "cell_type": "code",
   "execution_count": 10,
   "id": "9f2907d0-8b6a-4189-bfe5-373b6ee9c6f8",
   "metadata": {},
   "outputs": [],
   "source": [
    "min_time = {}\n",
    "max_time = {}\n",
    "avg_time = {}\n",
    "\n",
    "min_time['setup'] = np.amin(setup_times)\n",
    "max_time['setup'] = np.amax(setup_times)\n",
    "avg_time['setup'] = np.mean(setup_times)\n",
    "\n",
    "min_time['encrypt'] = np.amin(encrypt_times)\n",
    "max_time['encrypt'] = np.amax(encrypt_times)\n",
    "avg_time['encrypt'] = np.mean(encrypt_times)\n",
    "\n",
    "min_time['keygen'] = np.amin(keygen_times)\n",
    "max_time['keygen'] = np.amax(keygen_times)\n",
    "avg_time['keygen'] = np.mean(keygen_times)\n",
    "\n",
    "min_time['decrypt'] = np.amin(decrypt_times)\n",
    "max_time['decrypt'] = np.amax(decrypt_times)\n",
    "avg_time['decrypt'] = np.mean(decrypt_times)\n"
   ]
  },
  {
   "cell_type": "code",
   "execution_count": 11,
   "id": "49c43160-0a74-452a-baee-c3b317e83a66",
   "metadata": {},
   "outputs": [
    {
     "data": {
      "text/plain": [
       "{'setup': 0.4051968189996842,\n",
       " 'encrypt': 0.08594968099896505,\n",
       " 'keygen': 1.012699976854492e-05,\n",
       " 'decrypt': 0.14576810699873022}"
      ]
     },
     "execution_count": 11,
     "metadata": {},
     "output_type": "execute_result"
    }
   ],
   "source": [
    "min_time"
   ]
  },
  {
   "cell_type": "code",
   "execution_count": 12,
   "id": "a845cb4d-efa5-4374-b2cd-d2574c954ffe",
   "metadata": {},
   "outputs": [
    {
     "data": {
      "text/plain": [
       "{'setup': 3.618690642999354,\n",
       " 'encrypt': 0.0943720499999472,\n",
       " 'keygen': 2.856499850167893e-05,\n",
       " 'decrypt': 0.1626608970000234}"
      ]
     },
     "execution_count": 12,
     "metadata": {},
     "output_type": "execute_result"
    }
   ],
   "source": [
    "max_time"
   ]
  },
  {
   "cell_type": "code",
   "execution_count": 13,
   "id": "4c0aa769-0b76-409c-8fb4-a23e000ae812",
   "metadata": {},
   "outputs": [
    {
     "data": {
      "text/plain": [
       "{'setup': 1.1736840882198885,\n",
       " 'encrypt': 0.08873265459991671,\n",
       " 'keygen': 1.1870199850818608e-05,\n",
       " 'decrypt': 0.15349274832016818}"
      ]
     },
     "execution_count": 13,
     "metadata": {},
     "output_type": "execute_result"
    }
   ],
   "source": [
    "avg_time"
   ]
  },
  {
   "cell_type": "code",
   "execution_count": null,
   "id": "9cee8f6d-9f22-487b-8dfa-ca0e842905b6",
   "metadata": {},
   "outputs": [],
   "source": []
  }
 ],
 "metadata": {
  "kernelspec": {
   "display_name": "Python 3 (ipykernel)",
   "language": "python",
   "name": "python3"
  },
  "language_info": {
   "codemirror_mode": {
    "name": "ipython",
    "version": 3
   },
   "file_extension": ".py",
   "mimetype": "text/x-python",
   "name": "python",
   "nbconvert_exporter": "python",
   "pygments_lexer": "ipython3",
   "version": "3.10.6"
  }
 },
 "nbformat": 4,
 "nbformat_minor": 5
}
